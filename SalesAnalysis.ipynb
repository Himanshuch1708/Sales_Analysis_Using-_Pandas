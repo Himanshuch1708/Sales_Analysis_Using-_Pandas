{
 "cells": [
  {
   "cell_type": "markdown",
   "id": "16aff18b",
   "metadata": {},
   "source": [
    "# Sales Analysis"
   ]
  },
  {
   "cell_type": "markdown",
   "id": "5ecf1238",
   "metadata": {},
   "source": [
    "#### Import necessary libraries"
   ]
  },
  {
   "cell_type": "code",
   "execution_count": null,
   "id": "3649796e",
   "metadata": {},
   "outputs": [],
   "source": [
    "import os\n",
    "import pandas as pd"
   ]
  }
 ],
 "metadata": {
  "kernelspec": {
   "display_name": "Python 3.10.6 64-bit",
   "language": "python",
   "name": "python3"
  },
  "language_info": {
   "name": "python",
   "version": "3.10.6"
  },
  "vscode": {
   "interpreter": {
    "hash": "f024e2f5c195b25199ae5df66636572f89de695b0de33051bbce2648a02e1b8a"
   }
  }
 },
 "nbformat": 4,
 "nbformat_minor": 5
}
